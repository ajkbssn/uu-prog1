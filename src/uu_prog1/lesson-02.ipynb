{
 "cells": [
  {
   "cell_type": "code",
   "execution_count": 4,
   "metadata": {},
   "outputs": [
    {
     "name": "stdout",
     "output_type": "stream",
     "text": [
      "**********\n",
      "***************\n",
      "************************\n",
      "*****************\n",
      "*********\n",
      "********\n",
      "***\n"
     ]
    }
   ],
   "source": [
    "values = [10, 15, 24, 17, 9, 8, 3]\n",
    "for v in values:\n",
    "    for i in range(v):\n",
    "        print('*', end='')\n",
    "    print() # New line"
   ]
  },
  {
   "cell_type": "code",
   "execution_count": 5,
   "metadata": {},
   "outputs": [
    {
     "name": "stdout",
     "output_type": "stream",
     "text": [
      "**********\n",
      "***************\n",
      "************************\n",
      "*****************\n",
      "*********\n",
      "********\n",
      "***\n"
     ]
    }
   ],
   "source": [
    "for val in values:\n",
    "    print(val * \"*\")"
   ]
  },
  {
   "cell_type": "code",
   "execution_count": null,
   "metadata": {},
   "outputs": [],
   "source": []
  }
 ],
 "metadata": {
  "kernelspec": {
   "display_name": "Python 3",
   "language": "python",
   "name": "python3"
  },
  "language_info": {
   "codemirror_mode": {
    "name": "ipython",
    "version": 3
   },
   "file_extension": ".py",
   "mimetype": "text/x-python",
   "name": "python",
   "nbconvert_exporter": "python",
   "pygments_lexer": "ipython3",
   "version": "3.8.5"
  }
 },
 "nbformat": 4,
 "nbformat_minor": 4
}
