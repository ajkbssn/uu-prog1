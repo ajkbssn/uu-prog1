{
 "cells": [
  {
   "cell_type": "markdown",
   "metadata": {},
   "source": [
    "# Lesson 9 Mini Project\n",
    "Computer Programming I\n",
    "\n",
    "University of Uppsala\n",
    "\n",
    "Fall 2020\n",
    "\n",
    "Anders Jakobsson\n",
    "\n",
    "## Importing data\n",
    "First part is to write a function `load_csv(filename)` that takes a string filename as argument and returns a dictionary that takes the country code (all in the lowercases) as the key and the list of yearly CO2 emission history as the value.\n"
   ]
  },
  {
   "cell_type": "code",
   "execution_count": 1,
   "metadata": {},
   "outputs": [
    {
     "name": "stdout",
     "output_type": "stream",
     "text": [
      "# src/uu_prog1/csv_utils.py\n",
      "\n",
      "import csv\n",
      "\n",
      "\n",
      "def load_csv(filename):\n",
      "    \"\"\"\n",
      "    Takes a string filename as argument and returns a dictionary\n",
      "    with the country code (lowercase) as key and the list of\n",
      "    yearly CO2 emission history as value.\n",
      "    File is CO2Emissions_filtered.csv. First row is header.\n",
      "    Fields are country_name, country_code, indicator_name and\n",
      "    then years from 1960 to 2014. Data from col 3 with first col 0.\n",
      "    \"\"\"\n",
      "    d = dict()\n",
      "    with open(filename) as csv_file:\n",
      "        reader = csv.reader(csv_file)\n",
      "        for index, line in enumerate(reader):\n",
      "            if index != 0:\n",
      "                d[line[1].lower()] = list(map(float, line[3:]))\n",
      "    return d\n"
     ]
    }
   ],
   "source": [
    "!cat csv_utils.py"
   ]
  },
  {
   "cell_type": "code",
   "execution_count": 2,
   "metadata": {},
   "outputs": [],
   "source": [
    "import csv_utils"
   ]
  },
  {
   "cell_type": "code",
   "execution_count": 3,
   "metadata": {},
   "outputs": [],
   "source": [
    "f = \"./data/CO2Emissions_filtered.csv\""
   ]
  },
  {
   "cell_type": "code",
   "execution_count": 4,
   "metadata": {},
   "outputs": [],
   "source": [
    "data = csv_utils.load_csv(f)"
   ]
  },
  {
   "cell_type": "code",
   "execution_count": 5,
   "metadata": {},
   "outputs": [
    {
     "name": "stdout",
     "output_type": "stream",
     "text": [
      "Help on function load_csv in module csv_utils:\n",
      "\n",
      "load_csv(filename)\n",
      "    Takes a string filename as argument and returns a dictionary\n",
      "    with the country code (lowercase) as key and the list of\n",
      "    yearly CO2 emission history as value.\n",
      "    File is CO2Emissions_filtered.csv. First row is header.\n",
      "    Fields are country_name, country_code, indicator_name and\n",
      "    then years from 1960 to 2014. Data from col 3 with first col 0.\n",
      "\n"
     ]
    }
   ],
   "source": []
  },
  {
   "cell_type": "code",
   "execution_count": null,
   "metadata": {},
   "outputs": [],
   "source": []
  },
  {
   "cell_type": "code",
   "execution_count": null,
   "metadata": {},
   "outputs": [],
   "source": []
  }
 ],
 "metadata": {
  "kernelspec": {
   "display_name": "Python 3.8.5 64-bit ('3.8.5': pyenv)",
   "language": "python",
   "name": "python38564bit385pyenv6f87ca2f23de4538b2d4d0d3695b3571"
  },
  "language_info": {
   "codemirror_mode": {
    "name": "ipython",
    "version": 3
   },
   "file_extension": ".py",
   "mimetype": "text/x-python",
   "name": "python",
   "nbconvert_exporter": "python",
   "pygments_lexer": "ipython3",
   "version": "3.8.5"
  }
 },
 "nbformat": 4,
 "nbformat_minor": 4
}
