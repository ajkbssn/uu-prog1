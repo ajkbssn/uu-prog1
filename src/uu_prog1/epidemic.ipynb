{
 "cells": [
  {
   "cell_type": "markdown",
   "metadata": {},
   "source": [
    "\n",
    "<h1 id=\"MINI-Project-2----Epidemic-simulation\">MINI Project 2 -- Epidemic simulation<a class=\"anchor-link\" href=\"#MINI-Project-2----Epidemic-simulation\">¶</a></h1><h2 id=\"Before-you-start\">Before you start<a class=\"anchor-link\" href=\"#Before-you-start\">¶</a></h2><p>Read the following instructions carefully.</p>\n",
    "<ul>\n",
    "<li>Prerequisite: <code>functions</code>, <code>modules</code>, <code>lists</code>, <code>matplotlib</code></li>\n",
    "<li>New concepts: <code>numpy</code> and more on <code>matplotlib</code>. In order to learn these packages, you need go through the examples via the links in this file.</li>\n",
    "<li>Estimated working time: 10 hours</li>\n",
    "<li>Work procedure: This is an individual work, <strong>you are expected to write your own code, and you must be able to explain it in your own words</strong>.</li>\n",
    "<li>Examination: you must present your solution to tasks <strong>A, B, C and D</strong> <strong>individually</strong> to a teacher or assistant teacher according the time at the course home page.</li>\n",
    "<li>Optional Tasks: Optional tasks are non-mandatory, but they will <em>help you to get higher grade in the final exam</em>.</li>\n",
    "</ul>\n"
   ]
  },
  {
   "cell_type": "markdown",
   "metadata": {},
   "source": [
    "\n",
    "<h2 id=\"The-Epidemic-Simulation\">The Epidemic Simulation<a class=\"anchor-link\" href=\"#The-Epidemic-Simulation\">¶</a></h2><p>An epidemic is a rapid spread of infectious disease to many people within a short period of time. \n",
    "For example, the <a href=\"https://en.wikipedia.org/wiki/Black_Death\"><em>Black Death</em></a> is one of the most devastating epidemics in human history, which is estimated to have killed up to 60% of Europe's  population.\n",
    "The Black Death was mainly due to the <a href=\"https://en.wikipedia.org/wiki/Bubonic_plague\">bubonic plague</a>, which is a bacterial infection. \n",
    "Without treatment, bubonic plague results in the death of 30% to 90% of cases.</p>\n",
    "<p>Knowledge of how diseases spread is important to prevent epidemics such as the Black Death. \n",
    "In this MINI project, we create a simulation tool for investigating the spread of a disease over a population with the <a href=\"https://en.wikipedia.org/wiki/Compartmental_models_in_epidemiology\">SIR model</a> (Susceptible-Infectious-Recovered model).</p>\n"
   ]
  },
  {
   "cell_type": "markdown",
   "metadata": {},
   "source": [
    "\n",
    "<h2 id=\"The-SIR-Model\">The SIR Model<a class=\"anchor-link\" href=\"#The-SIR-Model\">¶</a></h2><p>This model describes the process of infectious diseases transmitted from human to human, where recovered individuals are immune to the disease.\n",
    "The three groups in SIR model are defined as:</p>\n",
    "<ul>\n",
    "<li>S (Susceptible). These are healthy people that can be infected.</li>\n",
    "<li>I (Infectious). People in this group are currently infected and can infect others.</li>\n",
    "<li>R (Recovered). These are people who are not infected anymore and cannot infect others. There are several reasons for this: they can be recovered from the disease, they can have died, or they can have been vaccinated.</li>\n",
    "</ul>\n",
    "<p>In this MINI project, you will learn to use the library <a href=\"https://numpy.org/\"><code>numpy</code></a>, which is an open source library for multi-dimensional arrays and matrices, along with a large collection of high-level mathematical functions to operate on these arrays.</p>\n",
    "<h3 id=\"The-1D-model\">The 1D model<a class=\"anchor-link\" href=\"#The-1D-model\">¶</a></h3><p>Denote the number of people in these three groups at week number $n$ by $S_n, I_n$ and $R_n$. \n",
    "Assume that one can only go through the direction <code>S</code> $\\rightarrow$ <code>I</code> $\\rightarrow$ <code>R</code>, such that no reinfection can happen in this model.\n",
    "Then, the SIR model is given by the following update equations at week $n$\n",
    "\\begin{equation}\n",
    "    \\begin{split}\n",
    "         S_n &amp;= S_{n-1} - aS_{n-1}I_{n-1},\\\\\n",
    "         I_n &amp;= I_{n-1} + aS_{n-1}I_{n-1} - bI_{n-1},\\\\\n",
    "         R_n &amp;= R_{n-1} + bI_{n-1},\\\\\n",
    "     \\end{split}\n",
    "\\end{equation}\n",
    "where $S_{n-1}, I_{n-1}$ and $R_{n-1}$ are the group sizes in week $n-1$, $a$ is the rate of a susceptible becoming infected, $b$ is the recovery rate.\n",
    "This simulation starts from week 0 with given $S[0], I[0]$ and $R[0]$ values.</p>\n",
    "<p><strong>Note 1</strong>: The total population satisfies $N =S[0]+I[0]+R[0]$.</p>\n",
    "<p><strong>Note 2</strong>: This model is an approximation of the reality, so it is possible for <code>S</code>, <code>I</code> and <code>R</code> to be non-integers.</p>\n"
   ]
  },
  {
   "cell_type": "markdown",
   "metadata": {},
   "source": [
    "\n",
    "<h3 id=\"Calculating-the-death-tolls\">Calculating the death tolls<a class=\"anchor-link\" href=\"#Calculating-the-death-tolls\">¶</a></h3><p>The SIR model does not distinguish the death from the recovery group. \n",
    "But, we can calculate the death tolls (the number of people dying each week) from the number of susceptible, infected and recovered in each week.\n",
    "For example, the Black Death ended in death in about 90% of those who got infected (notice that antibiotic treatment against the plague were only discovered in 1928).\n",
    "We can assume that 90% of the individuals who enter the recovered group from infected group die during this process.\n",
    "This is to calculate the differences between the number of recovery in the current week compared with the previous week.\n",
    "To do this, you can use the function <code>numpy.diff</code> on the array <code>R</code> after the simulation, read the document of <a href=\"https://docs.scipy.org/doc/numpy/reference/generated/numpy.diff.html\"><code>numpy.diff</code></a>.</p>\n",
    "<p><strong>Note</strong>: The function <code>numpy.diff(R)</code> returns an array with size <code>R.shape[0]-1</code>.</p>\n"
   ]
  },
  {
   "cell_type": "markdown",
   "metadata": {},
   "source": [
    "\n",
    "<h3 id=\"Mandatory-Task-A:\"><strong>Mandatory Task A:</strong><a class=\"anchor-link\" href=\"#Mandatory-Task-A:\">¶</a></h3><ol>\n",
    "<li><p>Go through <strong>The Basics</strong> of the <a href=\"https://numpy.org/devdocs/user/quickstart.html\">official tutorial</a> of <code>numpy</code>, try with the given examples.</p>\n",
    "</li>\n",
    "<li><p>Implement the SIR model as a function</p>\n",
    "<div class=\"highlight\"><pre><span></span><span class=\"k\">def</span> <span class=\"nf\">SIR</span><span class=\"p\">(</span><span class=\"n\">S0</span><span class=\"p\">,</span> <span class=\"n\">I0</span><span class=\"p\">,</span> <span class=\"n\">R0</span><span class=\"p\">,</span> <span class=\"n\">a</span><span class=\"p\">,</span> <span class=\"n\">b</span><span class=\"p\">,</span> <span class=\"n\">T</span><span class=\"o\">=</span><span class=\"mi\">100</span><span class=\"p\">):</span>\n",
    " <span class=\"o\">...</span>\n",
    " <span class=\"k\">return</span> <span class=\"n\">S</span><span class=\"p\">,</span> <span class=\"n\">I</span><span class=\"p\">,</span> <span class=\"n\">R</span><span class=\"p\">,</span> <span class=\"n\">t</span>\n",
    "</pre></div>\n",
    "<p>where <code>S0</code> is the initial size of the susceptible population, <code>I0</code> is the initial number of infected, <code>R0</code> is the initial number of recovered, <code>a</code> and <code>b</code> are the rates in the model, <code>T</code> is the total amount of weeks of the simulation. \n",
    "The function returns four <code>numpy.ndarray</code>s including the time series <code>t</code>, and the solutions <code>S</code>, <code>I</code> and <code>R</code>. \n",
    "These four arrays should start from week 0 and have the same shape.</p>\n",
    "</li>\n",
    "<li><p>Simulate the SIR model with $S_0=995, I_0=5, R_0=0, a=0.0005, b=1/7, T=40$ and plot the solutions of <code>S</code>, <code>I</code> and <code>R</code> with different colors using <code>matplotlib</code>.</p>\n",
    "</li>\n",
    "<li>Add labels, legend, title, and other information to make the figure easy to read.</li>\n",
    "<li>Calculate the death tolls with 90% rate for this simulation.</li>\n",
    "<li><p>Rearrange your plot, such that the SIR solutions and the death rolls are shown in the same figure with <strong>two panels</strong>: the upper panel is for the SIR and the lower is for the death toll. You should create this figure with <code>matplotlib.pyplot.subplots</code>.</p>\n",
    "</li>\n",
    "<li><p>(Optional) Use the weekly death tolls to compute the cumulative number of the died individuals.</p>\n",
    "</li>\n",
    "</ol>\n",
    "<p><strong>Note</strong>: In this task, you should <strong>only</strong> use <code>numpy.ndarray</code> for all the array, no <code>list</code> or <code>dict</code>.</p>\n",
    "<p>An example of the final figure is shown as following.</p>\n"
   ]
  },
  {
   "cell_type": "code",
   "execution_count": null,
   "metadata": {},
   "outputs": [],
   "source": [
    "\n",
    "%run SIR1D.py\n",
    "\n"
   ]
  },
  {
   "cell_type": "markdown",
   "metadata": {},
   "source": [
    "\n",
    "<h2 id=\"The-2D-SIR-model\">The 2D SIR model<a class=\"anchor-link\" href=\"#The-2D-SIR-model\">¶</a></h2><p>Most diseases spread from one individual to another only if they are close to each other. \n",
    "To take this factor into account, we expand the 1D SIR model to two dimensional such that the SIR model becomes a spatial model which includes the distribution and variation of the disease in space and time. \n",
    "We can use this model to examine how a disease develops and how to stop it.</p>\n",
    "<h3 id=\"2D-representation\">2D representation<a class=\"anchor-link\" href=\"#2D-representation\">¶</a></h3><p>We start with a grid of people with $M$ rows and $N$ columns. \n",
    "This contains $M\\times N$ individuals and we can use a two dimensional array to store it.\n",
    "Each infected individual may only transmit the disease to their immediate neighbors in the array, as that is the only people they are in contact with.</p>\n",
    "<h3 id=\"Stages-of-the-disease\">Stages of the disease<a class=\"anchor-link\" href=\"#Stages-of-the-disease\">¶</a></h3><p>The value of each element in the array is the current stage of the individual. \n",
    "For the SIR model, we represent the groups by integers:</p>\n",
    "<div class=\"highlight\"><pre><span></span><span class=\"n\">SUSCEPTIBLE</span> <span class=\"o\">=</span> <span class=\"mi\">0</span>\n",
    "<span class=\"n\">INFECTED</span> <span class=\"o\">=</span> <span class=\"mi\">1</span>\n",
    "<span class=\"n\">RECOVERED</span> <span class=\"o\">=</span> <span class=\"mi\">2</span>\n",
    "</pre></div>\n",
    "<p>You can use <a href=\"https://docs.scipy.org/doc/numpy/reference/generated/numpy.ones.html\"><code>numpy.ones</code></a> or <a href=\"https://docs.scipy.org/doc/numpy/reference/generated/numpy.zeros.html\"><code>numpy.zeros</code></a> to initialize the 2D array, and then change some of the elements according to the initial condition.</p>\n",
    "<p>The following example shows an $8\\times6$ grid with all the individuals are <code>SUSCEPTIBLE</code>, except <code>[4,3]</code> is <code>INFECTED</code> and <code>[3,3]</code> is <code>RECOVERED</code>.</p>\n",
    "<p><strong>Note</strong>: The implementation of the module <code>epidemics</code>, functions <code>createSIR2D</code> and <code>plot2D_SIR</code> are <strong>the tasks for you to complete</strong>. The details are given in the following sections.</p>\n"
   ]
  },
  {
   "cell_type": "code",
   "execution_count": null,
   "metadata": {},
   "outputs": [],
   "source": [
    "\n",
    "import numpy as np\n",
    "from epidemics import *\n",
    "\n",
    "grid = createSIR2D(rows=8, columns=6)\n",
    "grid[4, 3] = INFECTED\n",
    "grid[3, 3] = RECOVERED\n",
    "print(grid)\n",
    "\n",
    "plot2D_SIR(grid)\n",
    "\n"
   ]
  },
  {
   "cell_type": "markdown",
   "metadata": {},
   "source": [
    "\n",
    "<h3 id=\"Rules-of-the-2D-SIR-model\">Rules of the 2D SIR model<a class=\"anchor-link\" href=\"#Rules-of-the-2D-SIR-model\">¶</a></h3><p><strong>Remark</strong>: Read the rules carefully and follow them step by step, these are the instructions of your 2D SIR simulator.</p>\n",
    "<p>The rules of how the disease is transmitted and developed are as following:</p>\n",
    "<ol>\n",
    "<li>For an infected individual, as shown above at <code>(4,3)</code> (red), it may only transmit the disease to the immediate neighbors and only if the neighbors are <code>SUSCEPTIBLE</code>. In this case, the individuals <code>(4,2)</code>, <code>(4,4)</code> and <code>(5,3)</code> can be infected. The individual <code>(3,3)</code> should not be included since it is already <code>RECOVERED</code>.</li>\n",
    "<li>Within one week, an infected individual has a probability $\\alpha$ of infecting a susceptible neighbor. This means, each of the three individuals <code>(4,2)</code>, <code>(4,4)</code> and <code>(5,3)</code> has its individual chance to be infected. </li>\n",
    "<li>During the same week, each infected individual can recover (either die or become immune) with a probability $\\beta$.</li>\n",
    "</ol>\n",
    "<p><strong>Note</strong>: You can generate random numbers to represent probabilities. For example, the function <code>numpy.random.rand()</code> can generate a random number between 0 and 1. For the three individuals in <code>(4,2)</code>, <code>(4,4)</code> and <code>(5,3)</code>, you can generate three random numbers correspondingly. If the number is smaller than $\\alpha$, this individual will be infected.</p>\n"
   ]
  },
  {
   "cell_type": "markdown",
   "metadata": {},
   "source": [
    "\n",
    "<h3 id=\"Mandatory-Task-B\">Mandatory Task B<a class=\"anchor-link\" href=\"#Mandatory-Task-B\">¶</a></h3><p><strong>Before you start working on this task, read the instruction above carefully. Make sure you understand how the model evolves.</strong></p>\n",
    "<ol>\n",
    "<li><p>Download the module <a href=\"epidemics.py\">epidemics</a> from the course website. Implement all the following functions into this module. This module can then be imported by other scripts to accomplish Tasks C and D.</p>\n",
    "</li>\n",
    "<li><p>Implement your first function <code>createSIR2D(rows, columns)</code> to return a 2D grid of size <code>(rows, columns)</code> and of type <code>numpy.ndarray</code> where all the individuals are <code>SUSCEPTIBLE</code>.</p>\n",
    "</li>\n",
    "<li><p>Implement another function <code>findNeighbors(grid, i, j)</code> which finds all the neighbors <code>(i-1,j), (i+1,j), (i,j-1), (i,j+1)</code> and then returns those who are <strong>susceptible</strong>, in a list. For instance, using the grid shown in the previous section, if we call</p>\n",
    "<div class=\"highlight\"><pre><span></span><span class=\"k\">print</span><span class=\"p\">(</span><span class=\"n\">findNeighbors</span><span class=\"p\">(</span><span class=\"n\">grid</span><span class=\"p\">,</span> <span class=\"mi\">4</span><span class=\"p\">,</span> <span class=\"mi\">3</span><span class=\"p\">))</span>\n",
    "</pre></div>\n",
    "<p>Then, the output should be (might be in a different order)</p>\n",
    "<div class=\"highlight\"><pre><span></span><span class=\"o\">&gt;&gt;&gt;</span> <span class=\"p\">[(</span><span class=\"mi\">4</span><span class=\"p\">,</span> <span class=\"mi\">2</span><span class=\"p\">),</span> <span class=\"p\">(</span><span class=\"mi\">4</span><span class=\"p\">,</span> <span class=\"mi\">4</span><span class=\"p\">),</span> <span class=\"p\">(</span><span class=\"mi\">5</span><span class=\"p\">,</span> <span class=\"mi\">3</span><span class=\"p\">)]</span>\n",
    "</pre></div>\n",
    "</li>\n",
    "<li><p>Implement a function <code>infect(grid, i, j, alpha)</code> that, given a grid and the position of an individual, returns <code>True</code> if the individual is getting infected, else <code>False</code>. In other words, it returns <code>True</code> with probability <code>alpha</code>, else <code>False</code>. Remember to check that the individual at <code>(i, j)</code> is susceptible in the first place (else return <code>False</code> since this individual cannot become infected).</p>\n",
    "</li>\n",
    "<li><p>Implement function <code>recover(grid, i, j, beta)</code> that, given a grid and the position of an infected individual, returns <code>True</code> if <code>(i,j)</code> is going to recover in the next week else <code>False</code>. Notice, you should first check if <code>(i,j)</code> is infected. If not, it is not going to become recovered anyway.</p>\n",
    "</li>\n",
    "<li><p>In order to visualize the simulation, you might need to generate a plot according to the 2D data. You can use <a href=\"https://matplotlib.org/3.1.1/api/_as_gen/matplotlib.pyplot.imshow.html\"><strong>imshow</strong></a> from <code>matplotlib</code> to display the data on a 2D regular raster. Write a function <code>plot2D_SIR(grid)</code> which takes a given 2D grid and generate a 2D plot of it. Use <a href=\"https://matplotlib.org/3.1.1/gallery/text_labels_and_annotations/custom_legends.html\">legend</a> or <a href=\"https://matplotlib.org/3.1.1/gallery/ticks_and_spines/colorbar_tick_labelling_demo.html\">colorbar</a> to indicate different stages of the disease. To change the <code>colormap</code>, you can also check this <a href=\"https://matplotlib.org/3.1.1/tutorials/colors/colormap-manipulation.html#sphx-glr-tutorials-colors-colormap-manipulation-py\">example</a>.</p>\n",
    "</li>\n",
    "<li><p>Have you thought about the boundaries when implementing the <code>findNeighbors</code> function? What will happen if <code>(i,j)</code> is <code>(4, 5)</code>? It will try to access <code>(4,6)</code> which is out of the bound of your 2D array. There are two way to fix this (you need to implement at least one of them):</p>\n",
    "<ul>\n",
    "<li>In the function <code>findNeighbors</code>, you can distinguish the interior elements and boundary elements in the 2D array and treat them differently.</li>\n",
    "<li>You can add <strong>ghost</strong> elements outside the boundary. This can be done by modifying your function <code>createSIR2D(rows, columns, boundary=True)</code> with an option to generate an array of shape the <code>(row+2,columns+2)</code> and put <code>NO_HUMAN</code> on the ghost boundary. An example of the output is shown below. <em>Keep in mind, if you add ghost boundaries, then the indices will all be shifted by 1.</em></li>\n",
    "</ul>\n",
    "</li>\n",
    "</ol>\n",
    "<p><strong>Note 1</strong>: Step 6 might be difficult, you will need some search on the Internet. In the <code>epidemics</code> module you downloaded, there is a function <code>SIRcmap</code> which can generate a colormap for this project. You can decide to use it or some other color maps. But, make sure you use only four different colors for the different stages.</p>\n",
    "<p><strong>Note 2</strong>: Make your functions are correct by writing necessary tests for each of the functions before you move on to the next section.</p>\n",
    "<p><strong>Note 3</strong>: For task 7, if you only implement one case, you should discuss with the teachers on the other case during the lab. Try to argue which way is better, with respect to implementation and performance.</p>\n"
   ]
  },
  {
   "cell_type": "code",
   "execution_count": null,
   "metadata": {},
   "outputs": [],
   "source": [
    "\n",
    "import numpy as np\n",
    "from epidemics import *\n",
    "\n",
    "grid = createSIR2D(rows=8, columns=6, boundary=True)\n",
    "grid[5, 4] = INFECTED\n",
    "grid[4, 4] = RECOVERED\n",
    "print(grid)\n",
    "\n",
    "plot2D_SIR(grid)\n",
    "\n"
   ]
  },
  {
   "cell_type": "markdown",
   "metadata": {},
   "source": [
    "\n",
    "<h3 id=\"Mandatory-Task-C----Put-everything-together\">Mandatory Task C -- Put everything together<a class=\"anchor-link\" href=\"#Mandatory-Task-C----Put-everything-together\">¶</a></h3><p>So far, you should have all the necessary functions. Now, let's put everything together.</p>\n",
    "<ol>\n",
    "<li><p>Implement a function <code>time_step(current_grid, alpha, beta)</code> which takes <code>previous_grid</code> from the current week and generate a new grid for the next week, with the two probabilities $\\alpha$ and $\\beta$. The structure of this function follows:</p>\n",
    "<div class=\"highlight\"><pre><span></span><span class=\"k\">def</span> <span class=\"nf\">time_step</span><span class=\"p\">(</span><span class=\"n\">current_grid</span><span class=\"p\">,</span> <span class=\"n\">alpha</span><span class=\"p\">,</span> <span class=\"n\">beta</span><span class=\"p\">):</span>\n",
    " <span class=\"o\">...</span>\n",
    " <span class=\"n\">new_grid</span> <span class=\"o\">=</span> <span class=\"n\">current_grid</span><span class=\"o\">.</span><span class=\"n\">copy</span><span class=\"p\">()</span>\n",
    " <span class=\"o\">...</span>\n",
    " <span class=\"k\">return</span> <span class=\"n\">new_grid</span>\n",
    "</pre></div>\n",
    "<p>In this function, you should follow the instructions in the \"<strong>Rules of the 2D SIR model</strong>\" section, go through all the infected elements, find all the susceptible neighbors, try to infect these neighbors, and try to recover on themselves.</p>\n",
    "</li>\n",
    "<li><p>Extend your <code>plot2D_SIR</code> function to plot snapshots of the simulation. Use titles, or other indicators to distinguish between different time steps.</p>\n",
    "</li>\n",
    "<li><p>Use the following example as a starting point to test your simulator. If everything works properly, you should be able to use the following code to generate similar plots.</p>\n",
    "</li>\n",
    "<li><p>(Optional) The snapshots are in different figures which are not easy to read. Using <code>subplots</code>, write a function <code>plotSnapshots(grid, N)</code> to plot all the snapshots in a single figure.</p>\n",
    "</li>\n",
    "</ol>\n"
   ]
  },
  {
   "cell_type": "code",
   "execution_count": null,
   "metadata": {},
   "outputs": [],
   "source": [
    "\n",
    "from epidemics import *\n",
    "import numpy as np\n",
    "\n",
    "# a seed for random number generators, this is not necessary\n",
    "np.random.seed(1203)\n",
    "\n",
    "# Settings\n",
    "T = 50\n",
    "M = 8\n",
    "N = 6\n",
    "alpha = 0.2\n",
    "beta = 0.15\n",
    "\n",
    "# Initialize the grid\n",
    "grid = createSIR2D(rows=M, columns=N, boundary=True)\n",
    "grid[4, 3] = INFECTED\n",
    "grids = []\n",
    "grids.append(grid)\n",
    "\n",
    "# Run the simulation\n",
    "for n in range(T):\n",
    "    grid = time_step(grid, alpha, beta)\n",
    "    grids.append(grid)\n",
    "\n",
    "# Plot the results\n",
    "[plot2D_SIR(grids[t], title=f'week {t}') for t in np.arange(0,T+1,T//5)]\n",
    "\n"
   ]
  },
  {
   "cell_type": "markdown",
   "metadata": {},
   "source": [
    "\n",
    "<h3 id=\"Mandatory-Task-D----To-the-real-world\">Mandatory Task D -- To the real world<a class=\"anchor-link\" href=\"#Mandatory-Task-D----To-the-real-world\">¶</a></h3><ol>\n",
    "<li><p>Test your simulator for $T=200, M=52, N=52$ and take <code>grid[22:28, 22:28] = INFECTED</code> for the initial condition. Plot <strong>at most</strong> 10 snapshots.</p>\n",
    "</li>\n",
    "<li><p>To compare with the 1D model, we can collect the number of S, I, and R individuals at each time point from your results, and plot them as in Task A. For a 2D array <code>arr</code> in <code>numpy</code>, it is very easy to count the number of elements which equal to a given value, say <code>INFECTED</code>. You can use <code>numpy.sum(arr == INFECTED)</code>. Plot the evolution of S, I and R (like for task 1).</p>\n",
    "</li>\n",
    "<li><p>The final goal is to use your simulator to work with the real world. Download <a href=\"worldmapCoarse.dat\">worldmapCoarse.dat</a> and load it to your initial grid by <code>grid = numpy.loadtxt('worldmap.dat', dtype=int, delimiter=',')</code>. Try to set an initial infection area, say <code>grid[10:12, 80:82] = INFECTED</code>, then simulate for 100 weeks. Use your snapshot functions to visualize the results.</p>\n",
    "</li>\n",
    "<li><p>If everything works fine so far, download <a href=\"worldmap.dat\">worldmap.dat</a>, which is a much finer grid. Set some initial infections at different locations and try to tune all the parameters to see if you can get the whole world infected. An example is shown in the end of this project.</p>\n",
    "</li>\n",
    "</ol>\n"
   ]
  },
  {
   "cell_type": "code",
   "execution_count": null,
   "metadata": {},
   "outputs": [],
   "source": [
    "\n",
    "%run worldSIR.py\n",
    "\n"
   ]
  }
 ],
 "metadata": {
  "kernelspec": {
   "display_name": "ajkbssn-uu_prog1-kernel",
   "language": "python",
   "name": "ajkbssn-uu_prog1-kernel"
  },
  "language_info": {
   "codemirror_mode": {
    "name": "ipython",
    "version": 3
   },
   "file_extension": ".py",
   "mimetype": "text/x-python",
   "name": "python",
   "nbconvert_exporter": "python",
   "pygments_lexer": "ipython3",
   "version": "3.8.5"
  }
 },
 "nbformat": 4,
 "nbformat_minor": 4
}
